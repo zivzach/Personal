{
 "cells": [
  {
   "cell_type": "code",
   "execution_count": null,
   "id": "cd832c97",
   "metadata": {},
   "outputs": [],
   "source": [
    "import pandas as pd\n",
    "import re\n",
    "\n",
    "# Sample data\n",
    "df = pd.DataFrame({\n",
    "    'raw_date': ['Mon, 28th May 2020 12:34:56 GMT', 'Tue, 1st Jan 2019 05:00:00 GMT']\n",
    "})\n",
    "\n",
    "# Remove day suffixes like 'st', 'nd', 'rd', 'th' using regex\n",
    "df['cleaned_date'] = df['raw_date'].apply(lambda x: re.sub(r'(\\d+)(st|nd|rd|th)', r'\\1', x))\n",
    "\n",
    "# Parse into datetime format\n",
    "df['parsed_date'] = pd.to_datetime(df['cleaned_date'], format='%a, %d %b %Y %H:%M:%S %Z', errors='coerce')\n",
    "\n",
    "# Optional: just keep the date part (no time)\n",
    "df['just_date'] = df['parsed_date'].dt.date\n",
    "\n",
    "print(df[['raw_date', 'just_date']])\n"
   ]
  }
 ],
 "metadata": {
  "kernelspec": {
   "display_name": "Python 3 (ipykernel)",
   "language": "python",
   "name": "python3"
  },
  "language_info": {
   "codemirror_mode": {
    "name": "ipython",
    "version": 3
   },
   "file_extension": ".py",
   "mimetype": "text/x-python",
   "name": "python",
   "nbconvert_exporter": "python",
   "pygments_lexer": "ipython3",
   "version": "3.9.12"
  }
 },
 "nbformat": 4,
 "nbformat_minor": 5
}
