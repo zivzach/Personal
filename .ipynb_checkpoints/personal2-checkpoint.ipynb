{
 "cells": [
  {
   "cell_type": "code",
   "execution_count": null,
   "id": "cd832c97",
   "metadata": {},
   "outputs": [],
   "source": [
    "import pandas as pd\n",
    "import re\n",
    "\n",
    "# Sample data\n",
    "df = pd.DataFrame({\n",
    "    'raw_date': ['Mon, 28th May 2020 12:34:56 GMT', 'Tue, 1st Jan 2019 05:00:00 GMT']\n",
    "})\n",
    "\n",
    "# Remove day suffixes like 'st', 'nd', 'rd', 'th' using regex\n",
    "df['cleaned_date'] = df['raw_date'].apply(lambda x: re.sub(r'(\\d+)(st|nd|rd|th)', r'\\1', x))\n",
    "\n",
    "# Parse into datetime format\n",
    "df['parsed_date'] = pd.to_datetime(df['cleaned_date'], format='%a, %d %b %Y %H:%M:%S %Z', errors='coerce')\n",
    "\n",
    "# Optional: just keep the date part (no time)\n",
    "df['just_date'] = df['parsed_date'].dt.date\n",
    "\n",
    "print(df[['raw_date', 'just_date']])\n"
   ]
  },
  {
   "cell_type": "code",
   "execution_count": null,
   "id": "2b545907",
   "metadata": {},
   "outputs": [],
   "source": [
    "import matplotlib.pyplot as plt\n",
    "\n",
    "# Sample data\n",
    "years = ['2010', '2025']\n",
    "car1_prices = [15000, 18000]\n",
    "car2_prices = [20000, 25000]\n",
    "car3_prices = [17000, 22000]\n",
    "\n",
    "# Plot\n",
    "fig, ax = plt.subplots()\n",
    "\n",
    "# Stacked bars\n",
    "bar1 = ax.bar(years, car1_prices, label='Car 1')\n",
    "bar2 = ax.bar(years, car2_prices, bottom=car1_prices, label='Car 2')\n",
    "\n",
    "# Compute bottoms for car 3 (stacked on car1 + car2)\n",
    "car1_plus_car2 = [c1 + c2 for c1, c2 in zip(car1_prices, car2_prices)]\n",
    "bar3 = ax.bar(years, car3_prices, bottom=car1_plus_car2, label='Car 3')\n",
    "\n",
    "# Add labels and legend\n",
    "ax.set_ylabel('Total Price ($)')\n",
    "ax.set_title('Stacked Car Prices in 2010 vs 2025')\n",
    "ax.legend()\n",
    "\n",
    "plt.tight_layout()\n",
    "plt.show()\n"
   ]
  },
  {
   "cell_type": "code",
   "execution_count": null,
   "id": "00d38cf7",
   "metadata": {},
   "outputs": [],
   "source": [
    "import shap\n",
    "\n",
    "# Get SHAP values for the dataset\n",
    "explainer = shap.TreeExplainer(model)\n",
    "shap_values = explainer(X)\n",
    "\n",
    "# Select the row you're interested in (e.g., index 0)\n",
    "i = 0\n",
    "shap_value = shap_values[i]\n",
    "\n",
    "# Get top 10 features by absolute SHAP value\n",
    "top_inds = np.argsort(np.abs(shap_value.values))[-10:][::-1]  # Top 10, sorted descending\n",
    "\n",
    "# Slice to top features\n",
    "shap_value_top = shap.Explanation(\n",
    "    values=shap_value.values[top_inds],\n",
    "    base_values=shap_value.base_values,\n",
    "    data=shap_value.data[top_inds],\n",
    "    feature_names=np.array(shap_value.feature_names)[top_inds]\n",
    ")\n",
    "\n",
    "# Plot the waterfall chart\n",
    "shap.plots.waterfall(shap_value_top)\n"
   ]
  }
 ],
 "metadata": {
  "kernelspec": {
   "display_name": "Python 3 (ipykernel)",
   "language": "python",
   "name": "python3"
  },
  "language_info": {
   "codemirror_mode": {
    "name": "ipython",
    "version": 3
   },
   "file_extension": ".py",
   "mimetype": "text/x-python",
   "name": "python",
   "nbconvert_exporter": "python",
   "pygments_lexer": "ipython3",
   "version": "3.9.12"
  }
 },
 "nbformat": 4,
 "nbformat_minor": 5
}
